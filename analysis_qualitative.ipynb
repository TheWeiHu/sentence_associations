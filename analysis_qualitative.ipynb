{
 "metadata": {
  "language_info": {
   "codemirror_mode": {
    "name": "ipython",
    "version": 3
   },
   "file_extension": ".py",
   "mimetype": "text/x-python",
   "name": "python",
   "nbconvert_exporter": "python",
   "pygments_lexer": "ipython3",
   "version": "3.7.9-final"
  },
  "orig_nbformat": 2,
  "kernelspec": {
   "name": "python3",
   "display_name": "Python 3.7.9 64-bit ('wa': conda)",
   "metadata": {
    "interpreter": {
     "hash": "4afaa915941f9b0bce10b927d1ab89bd7b168040e91a51d9137b55799d2b9c24"
    }
   }
  }
 },
 "nbformat": 4,
 "nbformat_minor": 2,
 "cells": [
  {
   "source": [
    "import pandas as pd\n",
    "import matplotlib.pyplot as plt\n",
    "import numpy as np\n",
    "\n",
    "from utils import get_valid_rows, calculate_overlap, PROMPTS\n",
    "\n",
    "MODEL_NAME = \"siamese\""
   ],
   "cell_type": "code",
   "metadata": {},
   "execution_count": 1,
   "outputs": []
  },
  {
   "cell_type": "code",
   "execution_count": 2,
   "metadata": {},
   "outputs": [],
   "source": [
    "df = pd.read_csv(\"output/similarity_scores_{}.csv\".format(MODEL_NAME), error_bad_lines=False)\n",
    "\n",
    "keys = list(PROMPTS.keys())\n",
    "# adding up all the similarity scores could be a good measure of the degree to which the model \"identifies\" with that respondent\n",
    "df[\"avg\"] = df[keys].mean(axis=1)\n",
    "\n",
    "original = pd.read_csv(\"SENTANCES1/data1.csv\")\n",
    "original = original[original.apply(get_valid_rows, axis=1)]\n",
    "original.reset_index(inplace=True)"
   ]
  },
  {
   "cell_type": "code",
   "execution_count": 11,
   "metadata": {
    "tags": []
   },
   "outputs": [
    {
     "output_type": "execute_result",
     "data": {
      "text/plain": [
       "[('what cannot be trusted.', 0.8801345229148865),\n",
       " ('is a nice life', 0.9043281674385072),\n",
       " (', oh brothers.', 0.9492551684379578),\n",
       " ('are sisters. ', 0.9381817579269408),\n",
       " ('beauty', 0.9274734258651732),\n",
       " ('wanting nothing.', 0.8766697645187378)]"
      ]
     },
     "metadata": {},
     "execution_count": 11
    }
   ],
   "source": [
    "highest = []\n",
    "\n",
    "for stem_id, stem in PROMPTS.items():\n",
    "    i = df[stem_id].idxmax()\n",
    "    highest.append((original[stem_id][i], df[stem_id][i]))\n",
    "highest"
   ]
  },
  {
   "cell_type": "code",
   "execution_count": 12,
   "metadata": {},
   "outputs": [
    {
     "output_type": "execute_result",
     "data": {
      "text/plain": [
       "[('car salesmen', 0.1006740182638168),\n",
       " ('Is sipping champagne and having sex with beautiful women',\n",
       "  0.1374860852956771),\n",
       " ('can be the fundament needed for a girl', 0.1493164896965026),\n",
       " ('never play rat fink', 0.1350248456001281),\n",
       " ('the environment is lost on most people and is being raped and pillaged by capitalism',\n",
       "  0.0145133472979068),\n",
       " ('money, Bruce Wayne set out to become Batman ', 0.0918492078781127)]"
      ]
     },
     "metadata": {},
     "execution_count": 12
    }
   ],
   "source": [
    "lowest = []\n",
    "\n",
    "for stem_id, stem in PROMPTS.items():\n",
    "    i = df[stem_id].idxmin()\n",
    "    lowest.append((original[stem_id][i],df[stem_id][i]))\n",
    "lowest"
   ]
  },
  {
   "cell_type": "code",
   "execution_count": 14,
   "metadata": {},
   "outputs": [
    {
     "output_type": "execute_result",
     "data": {
      "text/plain": [
       "[('what cannot be trusted.', 0.8801345229148865),\n",
       " ('is a nice life', 0.9043281674385072),\n",
       " (\"- yes, we are our brothers' keepers.\", 0.8667517900466919),\n",
       " ('are my girlfriends.', 0.8450527191162109),\n",
       " ('beauty is inherent.', 0.917377471923828),\n",
       " ('wanting nothing.', 0.8766697645187378)]"
      ]
     },
     "metadata": {},
     "execution_count": 14
    }
   ],
   "source": [
    "highest_ = []\n",
    "\n",
    "for stem_id, stem in PROMPTS.items():\n",
    "    selection = original[stem_id].apply(lambda x: (calculate_overlap(stem, x) < 0.5))\n",
    "    current_scores, current_responses = df[stem_id][selection], original[stem_id][selection]\n",
    "    i = current_scores.idxmax()\n",
    "    highest_.append((current_responses[i], current_scores[i]))\n",
    "highest_"
   ]
  },
  {
   "cell_type": "code",
   "execution_count": 19,
   "metadata": {},
   "outputs": [
    {
     "output_type": "execute_result",
     "data": {
      "text/plain": [
       "<IPython.core.display.HTML object>"
      ],
      "text/html": "<table border=\"1\" class=\"dataframe\">\n  <thead>\n    <tr style=\"text-align: right;\">\n      <th>stem</th>\n      <th>highest</th>\n      <th>highest_nontrivial</th>\n      <th>lowest</th>\n    </tr>\n  </thead>\n  <tbody>\n    <tr>\n      <td>One should never trust...</td>\n      <td>(what cannot be trusted., 0.8801345229148865)</td>\n      <td>(what cannot be trusted., 0.8801345229148865)</td>\n      <td>(car salesmen, 0.1006740182638168)</td>\n    </tr>\n    <tr>\n      <td>The good life...</td>\n      <td>(is a nice life, 0.9043281674385072)</td>\n      <td>(is a nice life, 0.9043281674385072)</td>\n      <td>(Is sipping champagne and having sex with beautiful women, 0.1374860852956771)</td>\n    </tr>\n    <tr>\n      <td>Brothers...</td>\n      <td>(, oh brothers., 0.9492551684379578)</td>\n      <td>(- yes, we are our brothers' keepers., 0.8667517900466919)</td>\n      <td>(can be the fundament needed for a girl, 0.1493164896965026)</td>\n    </tr>\n    <tr>\n      <td>Sisters...</td>\n      <td>(are sisters. , 0.9381817579269408)</td>\n      <td>(are my girlfriends., 0.8450527191162109)</td>\n      <td>(never play rat fink, 0.1350248456001281)</td>\n    </tr>\n    <tr>\n      <td>The beauty of...</td>\n      <td>(beauty, 0.9274734258651732)</td>\n      <td>(beauty is inherent., 0.917377471923828)</td>\n      <td>(the environment is lost on most people and is being raped and pillaged by capitalism, 0.0145133472979068)</td>\n    </tr>\n    <tr>\n      <td>Lacking everything but...</td>\n      <td>(wanting nothing., 0.8766697645187378)</td>\n      <td>(wanting nothing., 0.8766697645187378)</td>\n      <td>(money, Bruce Wayne set out to become Batman , 0.0918492078781127)</td>\n    </tr>\n  </tbody>\n</table>"
     },
     "metadata": {},
     "execution_count": 19
    }
   ],
   "source": [
    "result = pd.DataFrame(\n",
    "    {'stem': [v for _, v in PROMPTS.items()],\n",
    "     'highest': highest,\n",
    "     'highest_nontrivial': highest_,\n",
    "     'lowest': lowest,\n",
    "    })\n",
    "from IPython.display import HTML\n",
    "HTML(result.to_html(index=False))"
   ]
  },
  {
   "cell_type": "code",
   "execution_count": null,
   "metadata": {},
   "outputs": [],
   "source": []
  }
 ]
}